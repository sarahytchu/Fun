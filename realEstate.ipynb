{
 "cells": [
  {
   "cell_type": "code",
   "execution_count": 1,
   "metadata": {},
   "outputs": [],
   "source": [
    "import pandas as pd\n",
    "import os\n",
    "import xlsxwriter"
   ]
  },
  {
   "cell_type": "code",
   "execution_count": 2,
   "metadata": {},
   "outputs": [],
   "source": [
    "def filePath (df, index_col=False):\n",
    "    \"\"\"\n",
    "    \n",
    "    A function that defines the file path with the right displaying options.\n",
    "    \n",
    "    Returns\n",
    "    -------\n",
    "    - the path of the file\n",
    "    \n",
    "    \n",
    "    Parameters\n",
    "    ----------\n",
    "    df       : name of the file\n",
    "    index_col: the column be assinged as index\n",
    "    \"\"\"\n",
    "\n",
    "    #Join the path of the current directory with the data set\n",
    "    filePath = os.path.join(os.getcwd(), df)  \n",
    "    #Use training.csv's path to read the file\n",
    "    file = pd.read_csv(filePath, index_col = index_col)\n",
    "    pd.set_option(\"display.max_columns\",10000)\n",
    "    pd.set_option(\"display.max_rows\",10000)\n",
    "    pd.set_option(\"display.width\",10000)\n",
    "    \n",
    "    return file\n",
    "\n"
   ]
  },
  {
   "cell_type": "code",
   "execution_count": 3,
   "metadata": {},
   "outputs": [
    {
     "name": "stdout",
     "output_type": "stream",
     "text": [
      "Enter the file name:\n"
     ]
    },
    {
     "name": "stdin",
     "output_type": "stream",
     "text": [
      " MySkips.csv\n"
     ]
    }
   ],
   "source": [
    "print('Enter the file name:')\n",
    "csvFile = input()\n",
    "file = filePath(csvFile)"
   ]
  },
  {
   "cell_type": "code",
   "execution_count": 4,
   "metadata": {},
   "outputs": [],
   "source": [
    "def newFile (df):\n",
    "    \n",
    "    #Concatenate the columns\n",
    "    df['Seller Name'] = df.iloc[:,0] + ' '+ df.iloc[:,1]\n",
    "    df['Input Zip Code'] = df['Input Zip Code'].apply(str)\n",
    "    df['Property Address'] = df.iloc[:,2] + ', ' + df.iloc[:,3] + ', '+ df.iloc[:,4] + ', '+ df.iloc[:,5]\n",
    "    df['Mailing Address'] = df.iloc[:,6] + ', ' + df.iloc[:,7] + ', '+ df.iloc[:,8]\n",
    "    \n",
    "    writer = pd.ExcelWriter('myskips.xlsx', engine='xlsxwriter')\n",
    "    \n",
    "    df.to_excel(writer, sheet_name='Sheet1')\n",
    "    \n",
    "    return writer.save()\n",
    "   \n"
   ]
  },
  {
   "cell_type": "code",
   "execution_count": 5,
   "metadata": {},
   "outputs": [],
   "source": [
    "newFile(file)"
   ]
  },
  {
   "cell_type": "code",
   "execution_count": null,
   "metadata": {},
   "outputs": [],
   "source": []
  }
 ],
 "metadata": {
  "kernelspec": {
   "display_name": "Python 3",
   "language": "python",
   "name": "python3"
  },
  "language_info": {
   "codemirror_mode": {
    "name": "ipython",
    "version": 3
   },
   "file_extension": ".py",
   "mimetype": "text/x-python",
   "name": "python",
   "nbconvert_exporter": "python",
   "pygments_lexer": "ipython3",
   "version": "3.7.3"
  }
 },
 "nbformat": 4,
 "nbformat_minor": 4
}
